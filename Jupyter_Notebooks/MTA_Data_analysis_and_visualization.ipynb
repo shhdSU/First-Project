{
 "cells": [
  {
   "cell_type": "markdown",
   "id": "03cc3884",
   "metadata": {},
   "source": [
    "## Importing The Libraries"
   ]
  },
  {
   "cell_type": "code",
   "execution_count": 1,
   "id": "7aa450d3",
   "metadata": {},
   "outputs": [],
   "source": [
    "import pandas as pd\n",
    "import matplotlib.pyplot as plt\n",
    "import numpy as np\n",
    "import seaborn as sns\n",
    "import sqlite3 as sql\n",
    "# # You can configure the format of the images: ‘png’, ‘retina’, ‘jpeg’, ‘svg’, ‘pdf’.\n",
    "# %config InlineBackend.figure_format = 'svg'\n",
    "# # this statement allows the visuals to render within your Jupyter Notebook\n",
    "# %matplotlib inline "
   ]
  },
  {
   "cell_type": "markdown",
   "id": "1d3a76d3",
   "metadata": {},
   "source": [
    "### Reading the data to start the analysis process "
   ]
  },
  {
   "cell_type": "code",
   "execution_count": 2,
   "id": "ca0486e7",
   "metadata": {},
   "outputs": [],
   "source": [
    "conection = sql.connect('All_df.db')"
   ]
  },
  {
   "cell_type": "code",
   "execution_count": 3,
   "id": "cfa2b3e8",
   "metadata": {},
   "outputs": [],
   "source": [
    "Basic_df = pd.read_sql('SELECT * FROM All_df', conection)"
   ]
  },
  {
   "cell_type": "code",
   "execution_count": 4,
   "id": "9e657770",
   "metadata": {},
   "outputs": [
    {
     "data": {
      "text/html": [
       "<div>\n",
       "<style scoped>\n",
       "    .dataframe tbody tr th:only-of-type {\n",
       "        vertical-align: middle;\n",
       "    }\n",
       "\n",
       "    .dataframe tbody tr th {\n",
       "        vertical-align: top;\n",
       "    }\n",
       "\n",
       "    .dataframe thead th {\n",
       "        text-align: right;\n",
       "    }\n",
       "</style>\n",
       "<table border=\"1\" class=\"dataframe\">\n",
       "  <thead>\n",
       "    <tr style=\"text-align: right;\">\n",
       "      <th></th>\n",
       "      <th>index</th>\n",
       "      <th>PERIOD</th>\n",
       "      <th>DATE</th>\n",
       "      <th>STATION</th>\n",
       "      <th>C/A</th>\n",
       "      <th>UNIT</th>\n",
       "      <th>SCP</th>\n",
       "      <th>ENTRIES_PER_DAY</th>\n",
       "      <th>EXITS_PER_DAY</th>\n",
       "      <th>WEEKDAY</th>\n",
       "      <th>WEEKDAY_INDEX</th>\n",
       "      <th>TRAFFIC</th>\n",
       "    </tr>\n",
       "  </thead>\n",
       "  <tbody>\n",
       "    <tr>\n",
       "      <th>0</th>\n",
       "      <td>0</td>\n",
       "      <td>2018-2019</td>\n",
       "      <td>2018-12-22 00:00:00</td>\n",
       "      <td>1 AV</td>\n",
       "      <td>H007</td>\n",
       "      <td>R248</td>\n",
       "      <td>00-00-00</td>\n",
       "      <td>2059</td>\n",
       "      <td>2559</td>\n",
       "      <td>Saturday</td>\n",
       "      <td>5</td>\n",
       "      <td>4618</td>\n",
       "    </tr>\n",
       "    <tr>\n",
       "      <th>1</th>\n",
       "      <td>1</td>\n",
       "      <td>2018-2019</td>\n",
       "      <td>2018-12-22 00:00:00</td>\n",
       "      <td>1 AV</td>\n",
       "      <td>H007</td>\n",
       "      <td>R248</td>\n",
       "      <td>00-00-01</td>\n",
       "      <td>2680</td>\n",
       "      <td>1180</td>\n",
       "      <td>Saturday</td>\n",
       "      <td>5</td>\n",
       "      <td>3860</td>\n",
       "    </tr>\n",
       "    <tr>\n",
       "      <th>2</th>\n",
       "      <td>2</td>\n",
       "      <td>2018-2019</td>\n",
       "      <td>2018-12-22 00:00:00</td>\n",
       "      <td>1 AV</td>\n",
       "      <td>H007</td>\n",
       "      <td>R248</td>\n",
       "      <td>00-03-00</td>\n",
       "      <td>522</td>\n",
       "      <td>722</td>\n",
       "      <td>Saturday</td>\n",
       "      <td>5</td>\n",
       "      <td>1244</td>\n",
       "    </tr>\n",
       "    <tr>\n",
       "      <th>3</th>\n",
       "      <td>3</td>\n",
       "      <td>2018-2019</td>\n",
       "      <td>2018-12-22 00:00:00</td>\n",
       "      <td>1 AV</td>\n",
       "      <td>H007</td>\n",
       "      <td>R248</td>\n",
       "      <td>00-03-01</td>\n",
       "      <td>451</td>\n",
       "      <td>159</td>\n",
       "      <td>Saturday</td>\n",
       "      <td>5</td>\n",
       "      <td>610</td>\n",
       "    </tr>\n",
       "    <tr>\n",
       "      <th>4</th>\n",
       "      <td>4</td>\n",
       "      <td>2018-2019</td>\n",
       "      <td>2018-12-22 00:00:00</td>\n",
       "      <td>1 AV</td>\n",
       "      <td>H007</td>\n",
       "      <td>R248</td>\n",
       "      <td>00-03-02</td>\n",
       "      <td>758</td>\n",
       "      <td>55</td>\n",
       "      <td>Saturday</td>\n",
       "      <td>5</td>\n",
       "      <td>813</td>\n",
       "    </tr>\n",
       "  </tbody>\n",
       "</table>\n",
       "</div>"
      ],
      "text/plain": [
       "   index     PERIOD                 DATE STATION   C/A  UNIT       SCP  \\\n",
       "0      0  2018-2019  2018-12-22 00:00:00    1 AV  H007  R248  00-00-00   \n",
       "1      1  2018-2019  2018-12-22 00:00:00    1 AV  H007  R248  00-00-01   \n",
       "2      2  2018-2019  2018-12-22 00:00:00    1 AV  H007  R248  00-03-00   \n",
       "3      3  2018-2019  2018-12-22 00:00:00    1 AV  H007  R248  00-03-01   \n",
       "4      4  2018-2019  2018-12-22 00:00:00    1 AV  H007  R248  00-03-02   \n",
       "\n",
       "   ENTRIES_PER_DAY  EXITS_PER_DAY   WEEKDAY  WEEKDAY_INDEX  TRAFFIC  \n",
       "0             2059           2559  Saturday              5     4618  \n",
       "1             2680           1180  Saturday              5     3860  \n",
       "2              522            722  Saturday              5     1244  \n",
       "3              451            159  Saturday              5      610  \n",
       "4              758             55  Saturday              5      813  "
      ]
     },
     "execution_count": 4,
     "metadata": {},
     "output_type": "execute_result"
    }
   ],
   "source": [
    "Basic_df.head()"
   ]
  },
  {
   "cell_type": "markdown",
   "id": "c703b3d8",
   "metadata": {},
   "source": [
    "##### first we need to reformat the _DATE_ to remove unmeaningful time\n",
    "when storing the date object into database this issue occour"
   ]
  },
  {
   "cell_type": "code",
   "execution_count": 5,
   "id": "588de64e",
   "metadata": {},
   "outputs": [],
   "source": [
    "Basic_df['DATE'] = pd.to_datetime(Basic_df.DATE.apply(lambda x: x[:10]))"
   ]
  },
  {
   "cell_type": "code",
   "execution_count": 6,
   "id": "f9d81d4b",
   "metadata": {
    "scrolled": true
   },
   "outputs": [
    {
     "data": {
      "text/html": [
       "<div>\n",
       "<style scoped>\n",
       "    .dataframe tbody tr th:only-of-type {\n",
       "        vertical-align: middle;\n",
       "    }\n",
       "\n",
       "    .dataframe tbody tr th {\n",
       "        vertical-align: top;\n",
       "    }\n",
       "\n",
       "    .dataframe thead th {\n",
       "        text-align: right;\n",
       "    }\n",
       "</style>\n",
       "<table border=\"1\" class=\"dataframe\">\n",
       "  <thead>\n",
       "    <tr style=\"text-align: right;\">\n",
       "      <th></th>\n",
       "      <th>index</th>\n",
       "      <th>PERIOD</th>\n",
       "      <th>DATE</th>\n",
       "      <th>STATION</th>\n",
       "      <th>C/A</th>\n",
       "      <th>UNIT</th>\n",
       "      <th>SCP</th>\n",
       "      <th>ENTRIES_PER_DAY</th>\n",
       "      <th>EXITS_PER_DAY</th>\n",
       "      <th>WEEKDAY</th>\n",
       "      <th>WEEKDAY_INDEX</th>\n",
       "      <th>TRAFFIC</th>\n",
       "    </tr>\n",
       "  </thead>\n",
       "  <tbody>\n",
       "    <tr>\n",
       "      <th>0</th>\n",
       "      <td>0</td>\n",
       "      <td>2018-2019</td>\n",
       "      <td>2018-12-22</td>\n",
       "      <td>1 AV</td>\n",
       "      <td>H007</td>\n",
       "      <td>R248</td>\n",
       "      <td>00-00-00</td>\n",
       "      <td>2059</td>\n",
       "      <td>2559</td>\n",
       "      <td>Saturday</td>\n",
       "      <td>5</td>\n",
       "      <td>4618</td>\n",
       "    </tr>\n",
       "    <tr>\n",
       "      <th>1</th>\n",
       "      <td>1</td>\n",
       "      <td>2018-2019</td>\n",
       "      <td>2018-12-22</td>\n",
       "      <td>1 AV</td>\n",
       "      <td>H007</td>\n",
       "      <td>R248</td>\n",
       "      <td>00-00-01</td>\n",
       "      <td>2680</td>\n",
       "      <td>1180</td>\n",
       "      <td>Saturday</td>\n",
       "      <td>5</td>\n",
       "      <td>3860</td>\n",
       "    </tr>\n",
       "    <tr>\n",
       "      <th>2</th>\n",
       "      <td>2</td>\n",
       "      <td>2018-2019</td>\n",
       "      <td>2018-12-22</td>\n",
       "      <td>1 AV</td>\n",
       "      <td>H007</td>\n",
       "      <td>R248</td>\n",
       "      <td>00-03-00</td>\n",
       "      <td>522</td>\n",
       "      <td>722</td>\n",
       "      <td>Saturday</td>\n",
       "      <td>5</td>\n",
       "      <td>1244</td>\n",
       "    </tr>\n",
       "    <tr>\n",
       "      <th>3</th>\n",
       "      <td>3</td>\n",
       "      <td>2018-2019</td>\n",
       "      <td>2018-12-22</td>\n",
       "      <td>1 AV</td>\n",
       "      <td>H007</td>\n",
       "      <td>R248</td>\n",
       "      <td>00-03-01</td>\n",
       "      <td>451</td>\n",
       "      <td>159</td>\n",
       "      <td>Saturday</td>\n",
       "      <td>5</td>\n",
       "      <td>610</td>\n",
       "    </tr>\n",
       "    <tr>\n",
       "      <th>4</th>\n",
       "      <td>4</td>\n",
       "      <td>2018-2019</td>\n",
       "      <td>2018-12-22</td>\n",
       "      <td>1 AV</td>\n",
       "      <td>H007</td>\n",
       "      <td>R248</td>\n",
       "      <td>00-03-02</td>\n",
       "      <td>758</td>\n",
       "      <td>55</td>\n",
       "      <td>Saturday</td>\n",
       "      <td>5</td>\n",
       "      <td>813</td>\n",
       "    </tr>\n",
       "  </tbody>\n",
       "</table>\n",
       "</div>"
      ],
      "text/plain": [
       "   index     PERIOD       DATE STATION   C/A  UNIT       SCP  ENTRIES_PER_DAY  \\\n",
       "0      0  2018-2019 2018-12-22    1 AV  H007  R248  00-00-00             2059   \n",
       "1      1  2018-2019 2018-12-22    1 AV  H007  R248  00-00-01             2680   \n",
       "2      2  2018-2019 2018-12-22    1 AV  H007  R248  00-03-00              522   \n",
       "3      3  2018-2019 2018-12-22    1 AV  H007  R248  00-03-01              451   \n",
       "4      4  2018-2019 2018-12-22    1 AV  H007  R248  00-03-02              758   \n",
       "\n",
       "   EXITS_PER_DAY   WEEKDAY  WEEKDAY_INDEX  TRAFFIC  \n",
       "0           2559  Saturday              5     4618  \n",
       "1           1180  Saturday              5     3860  \n",
       "2            722  Saturday              5     1244  \n",
       "3            159  Saturday              5      610  \n",
       "4             55  Saturday              5      813  "
      ]
     },
     "execution_count": 6,
     "metadata": {},
     "output_type": "execute_result"
    }
   ],
   "source": [
    "Basic_df.head()"
   ]
  },
  {
   "cell_type": "markdown",
   "id": "a25358cf",
   "metadata": {},
   "source": [
    "## Start analysis process\n",
    "\n",
    "First we want to display the top 10 crowded station in each year"
   ]
  },
  {
   "cell_type": "code",
   "execution_count": 7,
   "id": "e9d84cb3",
   "metadata": {},
   "outputs": [
    {
     "data": {
      "text/html": [
       "<div>\n",
       "<style scoped>\n",
       "    .dataframe tbody tr th:only-of-type {\n",
       "        vertical-align: middle;\n",
       "    }\n",
       "\n",
       "    .dataframe tbody tr th {\n",
       "        vertical-align: top;\n",
       "    }\n",
       "\n",
       "    .dataframe thead th {\n",
       "        text-align: right;\n",
       "    }\n",
       "</style>\n",
       "<table border=\"1\" class=\"dataframe\">\n",
       "  <thead>\n",
       "    <tr style=\"text-align: right;\">\n",
       "      <th></th>\n",
       "      <th>PERIOD</th>\n",
       "      <th>STATION</th>\n",
       "      <th>TRAFFIC</th>\n",
       "    </tr>\n",
       "  </thead>\n",
       "  <tbody>\n",
       "    <tr>\n",
       "      <th>0</th>\n",
       "      <td>2018-2019</td>\n",
       "      <td>1 AV</td>\n",
       "      <td>918275</td>\n",
       "    </tr>\n",
       "    <tr>\n",
       "      <th>1</th>\n",
       "      <td>2018-2019</td>\n",
       "      <td>103 ST</td>\n",
       "      <td>998354</td>\n",
       "    </tr>\n",
       "    <tr>\n",
       "      <th>2</th>\n",
       "      <td>2018-2019</td>\n",
       "      <td>103 ST-CORONA</td>\n",
       "      <td>752429</td>\n",
       "    </tr>\n",
       "    <tr>\n",
       "      <th>3</th>\n",
       "      <td>2018-2019</td>\n",
       "      <td>104 ST</td>\n",
       "      <td>123228</td>\n",
       "    </tr>\n",
       "    <tr>\n",
       "      <th>4</th>\n",
       "      <td>2018-2019</td>\n",
       "      <td>110 ST</td>\n",
       "      <td>416723</td>\n",
       "    </tr>\n",
       "  </tbody>\n",
       "</table>\n",
       "</div>"
      ],
      "text/plain": [
       "      PERIOD        STATION  TRAFFIC\n",
       "0  2018-2019           1 AV   918275\n",
       "1  2018-2019         103 ST   998354\n",
       "2  2018-2019  103 ST-CORONA   752429\n",
       "3  2018-2019         104 ST   123228\n",
       "4  2018-2019         110 ST   416723"
      ]
     },
     "execution_count": 7,
     "metadata": {},
     "output_type": "execute_result"
    }
   ],
   "source": [
    "stations_per_period_df = pd.DataFrame(Basic_df.groupby(['PERIOD', 'STATION'], as_index = False).TRAFFIC.sum())\n",
    "stations_per_period_df.head()"
   ]
  },
  {
   "cell_type": "code",
   "execution_count": 8,
   "id": "0abb5b47",
   "metadata": {},
   "outputs": [],
   "source": [
    "stations_per_period_df_10A = stations_per_period_df.loc[stations_per_period_df['PERIOD'] == '2020-2021',:].sort_values('TRAFFIC', ascending = False).head(10)\n",
    "stations_per_period_df_10B = stations_per_period_df.loc[stations_per_period_df['PERIOD'] == '2019-2020',:].sort_values('TRAFFIC', ascending = False).head(10)\n",
    "stations_per_period_df_10C = stations_per_period_df.loc[stations_per_period_df['PERIOD'] == '2018-2019',:].sort_values('TRAFFIC', ascending = False).head(10)"
   ]
  },
  {
   "cell_type": "code",
   "execution_count": 9,
   "id": "9dc05b44",
   "metadata": {
    "scrolled": true
   },
   "outputs": [
    {
     "data": {
      "text/html": [
       "<div>\n",
       "<style scoped>\n",
       "    .dataframe tbody tr th:only-of-type {\n",
       "        vertical-align: middle;\n",
       "    }\n",
       "\n",
       "    .dataframe tbody tr th {\n",
       "        vertical-align: top;\n",
       "    }\n",
       "\n",
       "    .dataframe thead th {\n",
       "        text-align: right;\n",
       "    }\n",
       "</style>\n",
       "<table border=\"1\" class=\"dataframe\">\n",
       "  <thead>\n",
       "    <tr style=\"text-align: right;\">\n",
       "      <th></th>\n",
       "      <th>PERIOD</th>\n",
       "      <th>STATION</th>\n",
       "      <th>TRAFFIC</th>\n",
       "    </tr>\n",
       "  </thead>\n",
       "  <tbody>\n",
       "    <tr>\n",
       "      <th>816</th>\n",
       "      <td>2020-2021</td>\n",
       "      <td>34 ST-PENN STA</td>\n",
       "      <td>1596380</td>\n",
       "    </tr>\n",
       "    <tr>\n",
       "      <th>814</th>\n",
       "      <td>2020-2021</td>\n",
       "      <td>34 ST-HERALD SQ</td>\n",
       "      <td>1437515</td>\n",
       "    </tr>\n",
       "    <tr>\n",
       "      <th>865</th>\n",
       "      <td>2020-2021</td>\n",
       "      <td>86 ST</td>\n",
       "      <td>1202076</td>\n",
       "    </tr>\n",
       "    <tr>\n",
       "      <th>764</th>\n",
       "      <td>2020-2021</td>\n",
       "      <td>125 ST</td>\n",
       "      <td>1165706</td>\n",
       "    </tr>\n",
       "    <tr>\n",
       "      <th>988</th>\n",
       "      <td>2020-2021</td>\n",
       "      <td>GRD CNTRL-42 ST</td>\n",
       "      <td>1069625</td>\n",
       "    </tr>\n",
       "  </tbody>\n",
       "</table>\n",
       "</div>"
      ],
      "text/plain": [
       "        PERIOD          STATION  TRAFFIC\n",
       "816  2020-2021   34 ST-PENN STA  1596380\n",
       "814  2020-2021  34 ST-HERALD SQ  1437515\n",
       "865  2020-2021            86 ST  1202076\n",
       "764  2020-2021           125 ST  1165706\n",
       "988  2020-2021  GRD CNTRL-42 ST  1069625"
      ]
     },
     "execution_count": 9,
     "metadata": {},
     "output_type": "execute_result"
    }
   ],
   "source": [
    "stations_per_period_df_10A.head()"
   ]
  },
  {
   "cell_type": "code",
   "execution_count": 10,
   "id": "54eb6272",
   "metadata": {},
   "outputs": [
    {
     "data": {
      "text/html": [
       "<div>\n",
       "<style scoped>\n",
       "    .dataframe tbody tr th:only-of-type {\n",
       "        vertical-align: middle;\n",
       "    }\n",
       "\n",
       "    .dataframe tbody tr th {\n",
       "        vertical-align: top;\n",
       "    }\n",
       "\n",
       "    .dataframe thead th {\n",
       "        text-align: right;\n",
       "    }\n",
       "</style>\n",
       "<table border=\"1\" class=\"dataframe\">\n",
       "  <thead>\n",
       "    <tr style=\"text-align: right;\">\n",
       "      <th></th>\n",
       "      <th>PERIOD</th>\n",
       "      <th>STATION</th>\n",
       "      <th>TRAFFIC</th>\n",
       "    </tr>\n",
       "  </thead>\n",
       "  <tbody>\n",
       "    <tr>\n",
       "      <th>438</th>\n",
       "      <td>2019-2020</td>\n",
       "      <td>34 ST-PENN STA</td>\n",
       "      <td>6472614</td>\n",
       "    </tr>\n",
       "    <tr>\n",
       "      <th>436</th>\n",
       "      <td>2019-2020</td>\n",
       "      <td>34 ST-HERALD SQ</td>\n",
       "      <td>5114777</td>\n",
       "    </tr>\n",
       "    <tr>\n",
       "      <th>610</th>\n",
       "      <td>2019-2020</td>\n",
       "      <td>GRD CNTRL-42 ST</td>\n",
       "      <td>4998975</td>\n",
       "    </tr>\n",
       "    <tr>\n",
       "      <th>729</th>\n",
       "      <td>2019-2020</td>\n",
       "      <td>TIMES SQ-42 ST</td>\n",
       "      <td>3987242</td>\n",
       "    </tr>\n",
       "    <tr>\n",
       "      <th>423</th>\n",
       "      <td>2019-2020</td>\n",
       "      <td>23 ST</td>\n",
       "      <td>3750641</td>\n",
       "    </tr>\n",
       "  </tbody>\n",
       "</table>\n",
       "</div>"
      ],
      "text/plain": [
       "        PERIOD          STATION  TRAFFIC\n",
       "438  2019-2020   34 ST-PENN STA  6472614\n",
       "436  2019-2020  34 ST-HERALD SQ  5114777\n",
       "610  2019-2020  GRD CNTRL-42 ST  4998975\n",
       "729  2019-2020   TIMES SQ-42 ST  3987242\n",
       "423  2019-2020            23 ST  3750641"
      ]
     },
     "execution_count": 10,
     "metadata": {},
     "output_type": "execute_result"
    }
   ],
   "source": [
    "stations_per_period_df_10B.head()"
   ]
  },
  {
   "cell_type": "code",
   "execution_count": 11,
   "id": "3c9dd1a0",
   "metadata": {},
   "outputs": [
    {
     "data": {
      "text/html": [
       "<div>\n",
       "<style scoped>\n",
       "    .dataframe tbody tr th:only-of-type {\n",
       "        vertical-align: middle;\n",
       "    }\n",
       "\n",
       "    .dataframe tbody tr th {\n",
       "        vertical-align: top;\n",
       "    }\n",
       "\n",
       "    .dataframe thead th {\n",
       "        text-align: right;\n",
       "    }\n",
       "</style>\n",
       "<table border=\"1\" class=\"dataframe\">\n",
       "  <thead>\n",
       "    <tr style=\"text-align: right;\">\n",
       "      <th></th>\n",
       "      <th>PERIOD</th>\n",
       "      <th>STATION</th>\n",
       "      <th>TRAFFIC</th>\n",
       "    </tr>\n",
       "  </thead>\n",
       "  <tbody>\n",
       "    <tr>\n",
       "      <th>61</th>\n",
       "      <td>2018-2019</td>\n",
       "      <td>34 ST-PENN STA</td>\n",
       "      <td>6382231</td>\n",
       "    </tr>\n",
       "    <tr>\n",
       "      <th>232</th>\n",
       "      <td>2018-2019</td>\n",
       "      <td>GRD CNTRL-42 ST</td>\n",
       "      <td>5169156</td>\n",
       "    </tr>\n",
       "    <tr>\n",
       "      <th>59</th>\n",
       "      <td>2018-2019</td>\n",
       "      <td>34 ST-HERALD SQ</td>\n",
       "      <td>5046156</td>\n",
       "    </tr>\n",
       "    <tr>\n",
       "      <th>351</th>\n",
       "      <td>2018-2019</td>\n",
       "      <td>TIMES SQ-42 ST</td>\n",
       "      <td>4059869</td>\n",
       "    </tr>\n",
       "    <tr>\n",
       "      <th>46</th>\n",
       "      <td>2018-2019</td>\n",
       "      <td>23 ST</td>\n",
       "      <td>3690315</td>\n",
       "    </tr>\n",
       "  </tbody>\n",
       "</table>\n",
       "</div>"
      ],
      "text/plain": [
       "        PERIOD          STATION  TRAFFIC\n",
       "61   2018-2019   34 ST-PENN STA  6382231\n",
       "232  2018-2019  GRD CNTRL-42 ST  5169156\n",
       "59   2018-2019  34 ST-HERALD SQ  5046156\n",
       "351  2018-2019   TIMES SQ-42 ST  4059869\n",
       "46   2018-2019            23 ST  3690315"
      ]
     },
     "execution_count": 11,
     "metadata": {},
     "output_type": "execute_result"
    }
   ],
   "source": [
    "stations_per_period_df_10C.head()"
   ]
  },
  {
   "cell_type": "code",
   "execution_count": 12,
   "id": "e48403a0",
   "metadata": {},
   "outputs": [
    {
     "data": {
      "image/png": "[encoded data removed]",
      "text/plain": [
       "<Figure size 432x288 with 1 Axes>"
      ]
     },
     "metadata": {
      "needs_background": "light"
     },
     "output_type": "display_data"
    }
   ],
   "source": [
    "plt.plot(stations_per_period_df_10A.STATION, stations_per_period_df_10A.TRAFFIC, color='#D84868', marker='+')\n",
    "\n",
    "plt.title('Traffic in Each Year', fontsize=20)\n",
    "plt.xticks(rotation = 90)\n",
    "plt.xlabel('Stations', fontsize=16, )\n",
    "plt.ylabel('Traffic per Station', fontsize=16)\n",
    "plt.legend(['2020-2021'],shadow = True, loc = 0);\n",
    "plt.show()\n"
   ]
  },
  {
   "cell_type": "code",
   "execution_count": 13,
   "id": "4f2be821",
   "metadata": {},
   "outputs": [
    {
     "data": {
      "image/png": "[encoded data removed]",
      "text/plain": [
       "<Figure size 432x288 with 1 Axes>"
      ]
     },
     "metadata": {
      "needs_background": "light"
     },
     "output_type": "display_data"
    }
   ],
   "source": [
    "plt.plot(stations_per_period_df_10B.STATION, stations_per_period_df_10B.TRAFFIC, color='#04B4BC', marker='+')\n",
    "\n",
    "plt.title('Traffic in Each Year', fontsize=20)\n",
    "plt.xticks(rotation = 90)\n",
    "plt.xlabel('Stations', fontsize=16, )\n",
    "plt.ylabel('Traffic per Station', fontsize=16)\n",
    "plt.legend(['2019-2020'],shadow = True, loc = 0);\n",
    "plt.show()\n"
   ]
  },
  {
   "cell_type": "code",
   "execution_count": 14,
   "id": "2258ddb8",
   "metadata": {},
   "outputs": [
    {
     "data": {
      "image/png": "[encoded data removed]",
      "text/plain": [
       "<Figure size 432x288 with 1 Axes>"
      ]
     },
     "metadata": {
      "needs_background": "light"
     },
     "output_type": "display_data"
    }
   ],
   "source": [
    "plt.plot(stations_per_period_df_10C.STATION, stations_per_period_df_10C.TRAFFIC, color='#FBBC4C', marker='+')\n",
    "\n",
    "plt.title('Traffic in Each Year', fontsize=20)\n",
    "plt.xticks(rotation = 90)\n",
    "plt.xlabel('Stations', fontsize=16, )\n",
    "plt.ylabel('Traffic per Station', fontsize=16)\n",
    "plt.legend(['2018-2019'],shadow = True, loc = 0);\n",
    "plt.show()\n"
   ]
  },
  {
   "cell_type": "code",
   "execution_count": 15,
   "id": "21e1f53d",
   "metadata": {},
   "outputs": [
    {
     "data": {
      "text/plain": [
       "0     14 ST-UNION SQ\n",
       "1              23 ST\n",
       "2    34 ST-HERALD SQ\n",
       "3     34 ST-PENN STA\n",
       "4    42 ST-PORT AUTH\n",
       "5              86 ST\n",
       "6    GRD CNTRL-42 ST\n",
       "dtype: object"
      ]
     },
     "execution_count": 15,
     "metadata": {},
     "output_type": "execute_result"
    }
   ],
   "source": [
    "inter1 = pd.Series(np.intersect1d(stations_per_period_df_10A['STATION'],stations_per_period_df_10B['STATION']))\n",
    "inter1"
   ]
  },
  {
   "cell_type": "code",
   "execution_count": 16,
   "id": "8660c913",
   "metadata": {},
   "outputs": [],
   "source": [
    "intersection_stations = pd.Series(np.intersect1d(inter1,stations_per_period_df_10C['STATION']))"
   ]
  },
  {
   "cell_type": "code",
   "execution_count": 17,
   "id": "c4fcf762",
   "metadata": {
    "scrolled": true
   },
   "outputs": [
    {
     "data": {
      "text/plain": [
       "0     14 ST-UNION SQ\n",
       "1              23 ST\n",
       "2    34 ST-HERALD SQ\n",
       "3     34 ST-PENN STA\n",
       "4    42 ST-PORT AUTH\n",
       "5              86 ST\n",
       "6    GRD CNTRL-42 ST\n",
       "dtype: object"
      ]
     },
     "execution_count": 17,
     "metadata": {},
     "output_type": "execute_result"
    }
   ],
   "source": [
    "intersection_stations"
   ]
  },
  {
   "cell_type": "code",
   "execution_count": 18,
   "id": "434b75b9",
   "metadata": {},
   "outputs": [],
   "source": [
    "inter10_stations_mask = ((stations_per_period_df['STATION'] == '14 ST-UNION SQ') | (stations_per_period_df['STATION'] == '23 ST') |\n",
    "       (stations_per_period_df['STATION'] == '34 ST-HERALD SQ') | (stations_per_period_df['STATION'] == '34 ST-PENN STA') |\n",
    "       (stations_per_period_df['STATION'] == '42 ST-PORT AUTH') |(stations_per_period_df['STATION'] == '86 ST') |\n",
    "       (stations_per_period_df['STATION'] == 'GRD CNTRL-42 ST'))"
   ]
  },
  {
   "cell_type": "code",
   "execution_count": 19,
   "id": "42f8aa1b",
   "metadata": {},
   "outputs": [
    {
     "data": {
      "text/html": [
       "<div>\n",
       "<style scoped>\n",
       "    .dataframe tbody tr th:only-of-type {\n",
       "        vertical-align: middle;\n",
       "    }\n",
       "\n",
       "    .dataframe tbody tr th {\n",
       "        vertical-align: top;\n",
       "    }\n",
       "\n",
       "    .dataframe thead th {\n",
       "        text-align: right;\n",
       "    }\n",
       "</style>\n",
       "<table border=\"1\" class=\"dataframe\">\n",
       "  <thead>\n",
       "    <tr style=\"text-align: right;\">\n",
       "      <th></th>\n",
       "      <th>PERIOD</th>\n",
       "      <th>STATION</th>\n",
       "      <th>TRAFFIC</th>\n",
       "    </tr>\n",
       "  </thead>\n",
       "  <tbody>\n",
       "    <tr>\n",
       "      <th>14</th>\n",
       "      <td>2018-2019</td>\n",
       "      <td>14 ST-UNION SQ</td>\n",
       "      <td>3508716</td>\n",
       "    </tr>\n",
       "    <tr>\n",
       "      <th>46</th>\n",
       "      <td>2018-2019</td>\n",
       "      <td>23 ST</td>\n",
       "      <td>3690315</td>\n",
       "    </tr>\n",
       "    <tr>\n",
       "      <th>59</th>\n",
       "      <td>2018-2019</td>\n",
       "      <td>34 ST-HERALD SQ</td>\n",
       "      <td>5046156</td>\n",
       "    </tr>\n",
       "    <tr>\n",
       "      <th>61</th>\n",
       "      <td>2018-2019</td>\n",
       "      <td>34 ST-PENN STA</td>\n",
       "      <td>6382231</td>\n",
       "    </tr>\n",
       "    <tr>\n",
       "      <th>67</th>\n",
       "      <td>2018-2019</td>\n",
       "      <td>42 ST-PORT AUTH</td>\n",
       "      <td>3491073</td>\n",
       "    </tr>\n",
       "  </tbody>\n",
       "</table>\n",
       "</div>"
      ],
      "text/plain": [
       "       PERIOD          STATION  TRAFFIC\n",
       "14  2018-2019   14 ST-UNION SQ  3508716\n",
       "46  2018-2019            23 ST  3690315\n",
       "59  2018-2019  34 ST-HERALD SQ  5046156\n",
       "61  2018-2019   34 ST-PENN STA  6382231\n",
       "67  2018-2019  42 ST-PORT AUTH  3491073"
      ]
     },
     "execution_count": 19,
     "metadata": {},
     "output_type": "execute_result"
    }
   ],
   "source": [
    "masked_station = stations_per_period_df[inter10_stations_mask]\n",
    "masked_station.head()"
   ]
  },
  {
   "cell_type": "code",
   "execution_count": 20,
   "id": "ab0ff779",
   "metadata": {
    "scrolled": true
   },
   "outputs": [
    {
     "data": {
      "image/png": "[encoded data removed]",
      "text/plain": [
       "<Figure size 432x288 with 1 Axes>"
      ]
     },
     "metadata": {
      "needs_background": "light"
     },
     "output_type": "display_data"
    }
   ],
   "source": [
    "plt.plot(masked_station[masked_station['PERIOD'] == '2020-2021'].STATION, masked_station[masked_station['PERIOD'] == '2020-2021'].TRAFFIC, color='#D84868', marker='+')\n",
    "plt.plot(masked_station[masked_station['PERIOD'] == '2019-2020'].STATION, masked_station[masked_station['PERIOD'] == '2019-2020'].TRAFFIC, color='#04B4BC', marker='+')\n",
    "plt.plot(masked_station[masked_station['PERIOD'] == '2018-2019'].STATION, masked_station[masked_station['PERIOD'] == '2018-2019'].TRAFFIC, color='#FBBC4C', marker='+')\n",
    "\n",
    "plt.title('Traffic in Each Year', fontsize=20)\n",
    "plt.xticks(rotation = 90)\n",
    "plt.xlabel('Stations', fontsize=16, )\n",
    "plt.ylabel('Traffic per Station', fontsize=16)\n",
    "plt.legend(['2020-2021','2019-2020','2018-2019'],shadow = True, loc = 0);\n",
    "plt.show()\n"
   ]
  },
  {
   "cell_type": "markdown",
   "id": "5b86481e",
   "metadata": {},
   "source": [
    "Now we will compare Christmas and New Year periods among all years"
   ]
  },
  {
   "cell_type": "code",
   "execution_count": 21,
   "id": "0af61a67",
   "metadata": {},
   "outputs": [],
   "source": [
    "Christmas_df = Basic_df.loc[Basic_df['DATE'].dt.month == 12,: ]\n",
    "New_Year_df = Basic_df.loc[Basic_df['DATE'].dt.month == 1,: ]"
   ]
  },
  {
   "cell_type": "code",
   "execution_count": 22,
   "id": "afc49bbd",
   "metadata": {},
   "outputs": [
    {
     "data": {
      "text/html": [
       "<div>\n",
       "<style scoped>\n",
       "    .dataframe tbody tr th:only-of-type {\n",
       "        vertical-align: middle;\n",
       "    }\n",
       "\n",
       "    .dataframe tbody tr th {\n",
       "        vertical-align: top;\n",
       "    }\n",
       "\n",
       "    .dataframe thead th {\n",
       "        text-align: right;\n",
       "    }\n",
       "</style>\n",
       "<table border=\"1\" class=\"dataframe\">\n",
       "  <thead>\n",
       "    <tr style=\"text-align: right;\">\n",
       "      <th></th>\n",
       "      <th>index</th>\n",
       "      <th>PERIOD</th>\n",
       "      <th>DATE</th>\n",
       "      <th>STATION</th>\n",
       "      <th>C/A</th>\n",
       "      <th>UNIT</th>\n",
       "      <th>SCP</th>\n",
       "      <th>ENTRIES_PER_DAY</th>\n",
       "      <th>EXITS_PER_DAY</th>\n",
       "      <th>WEEKDAY</th>\n",
       "      <th>WEEKDAY_INDEX</th>\n",
       "      <th>TRAFFIC</th>\n",
       "    </tr>\n",
       "  </thead>\n",
       "  <tbody>\n",
       "    <tr>\n",
       "      <th>314899</th>\n",
       "      <td>315214</td>\n",
       "      <td>2020-2021</td>\n",
       "      <td>2020-12-27</td>\n",
       "      <td>PATH WTC 2</td>\n",
       "      <td>PTH21</td>\n",
       "      <td>R540</td>\n",
       "      <td>01-00-03</td>\n",
       "      <td>5</td>\n",
       "      <td>119</td>\n",
       "      <td>Sunday</td>\n",
       "      <td>6</td>\n",
       "      <td>124</td>\n",
       "    </tr>\n",
       "    <tr>\n",
       "      <th>299778</th>\n",
       "      <td>300089</td>\n",
       "      <td>2020-2021</td>\n",
       "      <td>2020-12-24</td>\n",
       "      <td>NEWARK C</td>\n",
       "      <td>PTH19</td>\n",
       "      <td>R549</td>\n",
       "      <td>02-01-06</td>\n",
       "      <td>145</td>\n",
       "      <td>30</td>\n",
       "      <td>Thursday</td>\n",
       "      <td>3</td>\n",
       "      <td>175</td>\n",
       "    </tr>\n",
       "    <tr>\n",
       "      <th>18099</th>\n",
       "      <td>18104</td>\n",
       "      <td>2018-2019</td>\n",
       "      <td>2018-12-25</td>\n",
       "      <td>MT EDEN AV</td>\n",
       "      <td>R285</td>\n",
       "      <td>R308</td>\n",
       "      <td>00-00-00</td>\n",
       "      <td>641</td>\n",
       "      <td>505</td>\n",
       "      <td>Tuesday</td>\n",
       "      <td>1</td>\n",
       "      <td>1146</td>\n",
       "    </tr>\n",
       "  </tbody>\n",
       "</table>\n",
       "</div>"
      ],
      "text/plain": [
       "         index     PERIOD       DATE     STATION    C/A  UNIT       SCP  \\\n",
       "314899  315214  2020-2021 2020-12-27  PATH WTC 2  PTH21  R540  01-00-03   \n",
       "299778  300089  2020-2021 2020-12-24    NEWARK C  PTH19  R549  02-01-06   \n",
       "18099    18104  2018-2019 2018-12-25  MT EDEN AV   R285  R308  00-00-00   \n",
       "\n",
       "        ENTRIES_PER_DAY  EXITS_PER_DAY   WEEKDAY  WEEKDAY_INDEX  TRAFFIC  \n",
       "314899                5            119    Sunday              6      124  \n",
       "299778              145             30  Thursday              3      175  \n",
       "18099               641            505   Tuesday              1     1146  "
      ]
     },
     "execution_count": 22,
     "metadata": {},
     "output_type": "execute_result"
    }
   ],
   "source": [
    "Christmas_df.sample(3)"
   ]
  },
  {
   "cell_type": "code",
   "execution_count": 23,
   "id": "e64af788",
   "metadata": {},
   "outputs": [
    {
     "data": {
      "text/html": [
       "<div>\n",
       "<style scoped>\n",
       "    .dataframe tbody tr th:only-of-type {\n",
       "        vertical-align: middle;\n",
       "    }\n",
       "\n",
       "    .dataframe tbody tr th {\n",
       "        vertical-align: top;\n",
       "    }\n",
       "\n",
       "    .dataframe thead th {\n",
       "        text-align: right;\n",
       "    }\n",
       "</style>\n",
       "<table border=\"1\" class=\"dataframe\">\n",
       "  <thead>\n",
       "    <tr style=\"text-align: right;\">\n",
       "      <th></th>\n",
       "      <th>index</th>\n",
       "      <th>PERIOD</th>\n",
       "      <th>DATE</th>\n",
       "      <th>STATION</th>\n",
       "      <th>C/A</th>\n",
       "      <th>UNIT</th>\n",
       "      <th>SCP</th>\n",
       "      <th>ENTRIES_PER_DAY</th>\n",
       "      <th>EXITS_PER_DAY</th>\n",
       "      <th>WEEKDAY</th>\n",
       "      <th>WEEKDAY_INDEX</th>\n",
       "      <th>TRAFFIC</th>\n",
       "    </tr>\n",
       "  </thead>\n",
       "  <tbody>\n",
       "    <tr>\n",
       "      <th>246618</th>\n",
       "      <td>246867</td>\n",
       "      <td>2019-2020</td>\n",
       "      <td>2020-01-13</td>\n",
       "      <td>14 ST-UNION SQ</td>\n",
       "      <td>A034</td>\n",
       "      <td>R170</td>\n",
       "      <td>03-03-01</td>\n",
       "      <td>2259</td>\n",
       "      <td>1632</td>\n",
       "      <td>Monday</td>\n",
       "      <td>0</td>\n",
       "      <td>3891</td>\n",
       "    </tr>\n",
       "    <tr>\n",
       "      <th>110899</th>\n",
       "      <td>111005</td>\n",
       "      <td>2018-2019</td>\n",
       "      <td>2019-01-14</td>\n",
       "      <td>46 ST</td>\n",
       "      <td>N316</td>\n",
       "      <td>R267</td>\n",
       "      <td>00-00-02</td>\n",
       "      <td>1702</td>\n",
       "      <td>85</td>\n",
       "      <td>Monday</td>\n",
       "      <td>0</td>\n",
       "      <td>1787</td>\n",
       "    </tr>\n",
       "    <tr>\n",
       "      <th>341109</th>\n",
       "      <td>341432</td>\n",
       "      <td>2020-2021</td>\n",
       "      <td>2021-01-02</td>\n",
       "      <td>23 ST</td>\n",
       "      <td>R227A</td>\n",
       "      <td>R131</td>\n",
       "      <td>01-06-01</td>\n",
       "      <td>18</td>\n",
       "      <td>29</td>\n",
       "      <td>Saturday</td>\n",
       "      <td>5</td>\n",
       "      <td>47</td>\n",
       "    </tr>\n",
       "  </tbody>\n",
       "</table>\n",
       "</div>"
      ],
      "text/plain": [
       "         index     PERIOD       DATE         STATION    C/A  UNIT       SCP  \\\n",
       "246618  246867  2019-2020 2020-01-13  14 ST-UNION SQ   A034  R170  03-03-01   \n",
       "110899  111005  2018-2019 2019-01-14           46 ST   N316  R267  00-00-02   \n",
       "341109  341432  2020-2021 2021-01-02           23 ST  R227A  R131  01-06-01   \n",
       "\n",
       "        ENTRIES_PER_DAY  EXITS_PER_DAY   WEEKDAY  WEEKDAY_INDEX  TRAFFIC  \n",
       "246618             2259           1632    Monday              0     3891  \n",
       "110899             1702             85    Monday              0     1787  \n",
       "341109               18             29  Saturday              5       47  "
      ]
     },
     "execution_count": 23,
     "metadata": {},
     "output_type": "execute_result"
    }
   ],
   "source": [
    "New_Year_df.sample(3)"
   ]
  },
  {
   "cell_type": "code",
   "execution_count": 24,
   "id": "4726d018",
   "metadata": {},
   "outputs": [],
   "source": [
    "Christmas_df = pd.DataFrame(Christmas_df.groupby(['STATION'], as_index = False).TRAFFIC.sum())"
   ]
  },
  {
   "cell_type": "code",
   "execution_count": 25,
   "id": "649201a7",
   "metadata": {},
   "outputs": [],
   "source": [
    "Christmas_df_top10 = Christmas_df.sort_values('TRAFFIC', ascending = False).head(10)"
   ]
  },
  {
   "cell_type": "code",
   "execution_count": 26,
   "id": "ca808e5c",
   "metadata": {
    "scrolled": true
   },
   "outputs": [
    {
     "data": {
      "text/html": [
       "<div>\n",
       "<style scoped>\n",
       "    .dataframe tbody tr th:only-of-type {\n",
       "        vertical-align: middle;\n",
       "    }\n",
       "\n",
       "    .dataframe tbody tr th {\n",
       "        vertical-align: top;\n",
       "    }\n",
       "\n",
       "    .dataframe thead th {\n",
       "        text-align: right;\n",
       "    }\n",
       "</style>\n",
       "<table border=\"1\" class=\"dataframe\">\n",
       "  <thead>\n",
       "    <tr style=\"text-align: right;\">\n",
       "      <th></th>\n",
       "      <th>STATION</th>\n",
       "      <th>TRAFFIC</th>\n",
       "    </tr>\n",
       "  </thead>\n",
       "  <tbody>\n",
       "    <tr>\n",
       "      <th>61</th>\n",
       "      <td>34 ST-PENN STA</td>\n",
       "      <td>4799650</td>\n",
       "    </tr>\n",
       "    <tr>\n",
       "      <th>59</th>\n",
       "      <td>34 ST-HERALD SQ</td>\n",
       "      <td>4361066</td>\n",
       "    </tr>\n",
       "    <tr>\n",
       "      <th>233</th>\n",
       "      <td>GRD CNTRL-42 ST</td>\n",
       "      <td>3492805</td>\n",
       "    </tr>\n",
       "    <tr>\n",
       "      <th>352</th>\n",
       "      <td>TIMES SQ-42 ST</td>\n",
       "      <td>3134963</td>\n",
       "    </tr>\n",
       "    <tr>\n",
       "      <th>68</th>\n",
       "      <td>42 ST-PORT AUTH</td>\n",
       "      <td>2850932</td>\n",
       "    </tr>\n",
       "  </tbody>\n",
       "</table>\n",
       "</div>"
      ],
      "text/plain": [
       "             STATION  TRAFFIC\n",
       "61    34 ST-PENN STA  4799650\n",
       "59   34 ST-HERALD SQ  4361066\n",
       "233  GRD CNTRL-42 ST  3492805\n",
       "352   TIMES SQ-42 ST  3134963\n",
       "68   42 ST-PORT AUTH  2850932"
      ]
     },
     "execution_count": 26,
     "metadata": {},
     "output_type": "execute_result"
    }
   ],
   "source": [
    "Christmas_df_top10.head()"
   ]
  },
  {
   "cell_type": "code",
   "execution_count": 27,
   "id": "35e31a59",
   "metadata": {},
   "outputs": [],
   "source": [
    "New_Year_df = pd.DataFrame(New_Year_df.groupby(['STATION'], as_index = False).TRAFFIC.sum())"
   ]
  },
  {
   "cell_type": "code",
   "execution_count": 28,
   "id": "ddc7cf1f",
   "metadata": {},
   "outputs": [],
   "source": [
    "New_Year_df_top10 = New_Year_df.sort_values('TRAFFIC', ascending = False).head(10)"
   ]
  },
  {
   "cell_type": "code",
   "execution_count": 29,
   "id": "a3d23e47",
   "metadata": {},
   "outputs": [
    {
     "data": {
      "text/html": [
       "<div>\n",
       "<style scoped>\n",
       "    .dataframe tbody tr th:only-of-type {\n",
       "        vertical-align: middle;\n",
       "    }\n",
       "\n",
       "    .dataframe tbody tr th {\n",
       "        vertical-align: top;\n",
       "    }\n",
       "\n",
       "    .dataframe thead th {\n",
       "        text-align: right;\n",
       "    }\n",
       "</style>\n",
       "<table border=\"1\" class=\"dataframe\">\n",
       "  <thead>\n",
       "    <tr style=\"text-align: right;\">\n",
       "      <th></th>\n",
       "      <th>STATION</th>\n",
       "      <th>TRAFFIC</th>\n",
       "    </tr>\n",
       "  </thead>\n",
       "  <tbody>\n",
       "    <tr>\n",
       "      <th>61</th>\n",
       "      <td>34 ST-PENN STA</td>\n",
       "      <td>9651575</td>\n",
       "    </tr>\n",
       "    <tr>\n",
       "      <th>233</th>\n",
       "      <td>GRD CNTRL-42 ST</td>\n",
       "      <td>7744951</td>\n",
       "    </tr>\n",
       "    <tr>\n",
       "      <th>59</th>\n",
       "      <td>34 ST-HERALD SQ</td>\n",
       "      <td>7237382</td>\n",
       "    </tr>\n",
       "    <tr>\n",
       "      <th>46</th>\n",
       "      <td>23 ST</td>\n",
       "      <td>5961085</td>\n",
       "    </tr>\n",
       "    <tr>\n",
       "      <th>352</th>\n",
       "      <td>TIMES SQ-42 ST</td>\n",
       "      <td>5762878</td>\n",
       "    </tr>\n",
       "  </tbody>\n",
       "</table>\n",
       "</div>"
      ],
      "text/plain": [
       "             STATION  TRAFFIC\n",
       "61    34 ST-PENN STA  9651575\n",
       "233  GRD CNTRL-42 ST  7744951\n",
       "59   34 ST-HERALD SQ  7237382\n",
       "46             23 ST  5961085\n",
       "352   TIMES SQ-42 ST  5762878"
      ]
     },
     "execution_count": 29,
     "metadata": {},
     "output_type": "execute_result"
    }
   ],
   "source": [
    "New_Year_df_top10.head()"
   ]
  },
  {
   "cell_type": "code",
   "execution_count": 30,
   "id": "e055e697",
   "metadata": {},
   "outputs": [
    {
     "data": {
      "image/png": "[encoded data removed]",
      "text/plain": [
       "<Figure size 432x288 with 1 Axes>"
      ]
     },
     "metadata": {
      "needs_background": "light"
     },
     "output_type": "display_data"
    }
   ],
   "source": [
    "plt.plot(Christmas_df_top10.STATION, Christmas_df_top10.TRAFFIC, color='#e6899b', marker='+')\n",
    "\n",
    "plt.title('Traffic in Christmas Period', fontsize=20)\n",
    "plt.xticks(rotation = 90)\n",
    "plt.xlabel('Stations', fontsize=16, )\n",
    "plt.ylabel('Traffic per Station', fontsize=16)\n",
    "plt.legend(['Christmas'],shadow = True, loc = 0);\n",
    "plt.show()"
   ]
  },
  {
   "cell_type": "code",
   "execution_count": 31,
   "id": "598c9f65",
   "metadata": {},
   "outputs": [
    {
     "data": {
      "image/png": "[encoded data removed]",
      "text/plain": [
       "<Figure size 432x288 with 1 Axes>"
      ]
     },
     "metadata": {
      "needs_background": "light"
     },
     "output_type": "display_data"
    }
   ],
   "source": [
    "plt.bar(New_Year_df_top10.STATION, New_Year_df_top10.TRAFFIC, color='#FFBB4C')\n",
    "\n",
    "plt.title('Traffic in New Year Period', fontsize=20)\n",
    "plt.xticks(rotation = 90)\n",
    "plt.xlabel('Stations', fontsize=16, )\n",
    "plt.ylabel('Traffic per Station', fontsize=16)\n",
    "plt.legend(['New Year'],shadow = True, loc = 0);\n",
    "plt.show()"
   ]
  },
  {
   "cell_type": "code",
   "execution_count": 32,
   "id": "4c7d5b6b",
   "metadata": {},
   "outputs": [
    {
     "data": {
      "text/plain": [
       "0             125 ST\n",
       "1     14 ST-UNION SQ\n",
       "2              23 ST\n",
       "3    34 ST-HERALD SQ\n",
       "4     34 ST-PENN STA\n",
       "5    42 ST-PORT AUTH\n",
       "6              86 ST\n",
       "7    GRD CNTRL-42 ST\n",
       "8     TIMES SQ-42 ST\n",
       "dtype: object"
      ]
     },
     "execution_count": 32,
     "metadata": {},
     "output_type": "execute_result"
    }
   ],
   "source": [
    "intersection_stations_2 = pd.Series(np.intersect1d(Christmas_df_top10.STATION,New_Year_df_top10.STATION))\n",
    "intersection_stations_2"
   ]
  },
  {
   "cell_type": "code",
   "execution_count": 33,
   "id": "92c72cdb",
   "metadata": {},
   "outputs": [],
   "source": [
    "Christmas_inter10_stations_mask = ((Christmas_df_top10['STATION'] == '125 ST') | (Christmas_df_top10['STATION'] == '14 ST-UNION SQ') |\n",
    "       (Christmas_df_top10['STATION'] == '23 ST') | (Christmas_df_top10['STATION'] == '34 ST-HERALD SQ') |\n",
    "       (Christmas_df_top10['STATION'] == '34 ST-PENN STA') |(Christmas_df_top10['STATION'] == '42 ST-PORT AUTH') |\n",
    "       (Christmas_df_top10['STATION'] == '86 ST') | (Christmas_df_top10['STATION'] == 'GRD CNTRL-42 ST') |\n",
    "       (Christmas_df_top10['STATION'] == 'TIMES SQ-42 ST'))\n",
    "\n",
    "New_inter10_stations_mask = ((New_Year_df_top10['STATION'] == '125 ST') | (New_Year_df_top10['STATION'] == '14 ST-UNION SQ') |\n",
    "       (New_Year_df_top10['STATION'] == '23 ST') | (New_Year_df_top10['STATION'] == '34 ST-HERALD SQ') |\n",
    "       (New_Year_df_top10['STATION'] == '34 ST-PENN STA') |(New_Year_df_top10['STATION'] == '42 ST-PORT AUTH') |\n",
    "       (New_Year_df_top10['STATION'] == '86 ST') | (New_Year_df_top10['STATION'] == 'GRD CNTRL-42 ST') |\n",
    "       (New_Year_df_top10['STATION'] == 'TIMES SQ-42 ST'))"
   ]
  },
  {
   "cell_type": "code",
   "execution_count": 34,
   "id": "9583eb43",
   "metadata": {},
   "outputs": [
    {
     "data": {
      "image/png": "[encoded data removed]",
      "text/plain": [
       "<Figure size 432x288 with 1 Axes>"
      ]
     },
     "metadata": {
      "needs_background": "light"
     },
     "output_type": "display_data"
    }
   ],
   "source": [
    "plt.plot(New_Year_df_top10[New_inter10_stations_mask].STATION, New_Year_df_top10[New_inter10_stations_mask].TRAFFIC, color='#FFBB4C', marker='+')\n",
    "plt.plot(Christmas_df_top10[Christmas_inter10_stations_mask].STATION, Christmas_df_top10[Christmas_inter10_stations_mask].TRAFFIC, color='#e6899b', marker='+')\n",
    "\n",
    "\n",
    "plt.title('Traffic in All Periods', fontsize=20)\n",
    "plt.xticks(rotation = 90)\n",
    "plt.xlabel('Stations', fontsize=16, )\n",
    "plt.ylabel('Traffic per Station', fontsize=16)\n",
    "plt.legend(['New Year Period', 'Christmas Period'],shadow = True, loc = 0);\n",
    "plt.show()"
   ]
  },
  {
   "cell_type": "markdown",
   "id": "8a21f5a1",
   "metadata": {},
   "source": [
    "Now lets take a look on the most crowded station in specefic day in New Year Period"
   ]
  },
  {
   "cell_type": "code",
   "execution_count": 35,
   "id": "89c65142",
   "metadata": {},
   "outputs": [],
   "source": [
    "days_station_df = Basic_df.loc[Basic_df['DATE'].dt.month == 1,: ]\n",
    "days_station_df = days_station_df.groupby(['WEEKDAY_INDEX', 'STATION'], as_index = False).TRAFFIC.sum()"
   ]
  },
  {
   "cell_type": "code",
   "execution_count": 36,
   "id": "49c1cc04",
   "metadata": {},
   "outputs": [
    {
     "data": {
      "text/html": [
       "<div>\n",
       "<style scoped>\n",
       "    .dataframe tbody tr th:only-of-type {\n",
       "        vertical-align: middle;\n",
       "    }\n",
       "\n",
       "    .dataframe tbody tr th {\n",
       "        vertical-align: top;\n",
       "    }\n",
       "\n",
       "    .dataframe thead th {\n",
       "        text-align: right;\n",
       "    }\n",
       "</style>\n",
       "<table border=\"1\" class=\"dataframe\">\n",
       "  <thead>\n",
       "    <tr style=\"text-align: right;\">\n",
       "      <th></th>\n",
       "      <th>WEEKDAY_INDEX</th>\n",
       "      <th>STATION</th>\n",
       "      <th>TRAFFIC</th>\n",
       "    </tr>\n",
       "  </thead>\n",
       "  <tbody>\n",
       "    <tr>\n",
       "      <th>0</th>\n",
       "      <td>0</td>\n",
       "      <td>1 AV</td>\n",
       "      <td>178568</td>\n",
       "    </tr>\n",
       "    <tr>\n",
       "      <th>1</th>\n",
       "      <td>0</td>\n",
       "      <td>103 ST</td>\n",
       "      <td>216609</td>\n",
       "    </tr>\n",
       "    <tr>\n",
       "      <th>2</th>\n",
       "      <td>0</td>\n",
       "      <td>103 ST-CORONA</td>\n",
       "      <td>168496</td>\n",
       "    </tr>\n",
       "    <tr>\n",
       "      <th>3</th>\n",
       "      <td>0</td>\n",
       "      <td>104 ST</td>\n",
       "      <td>30876</td>\n",
       "    </tr>\n",
       "    <tr>\n",
       "      <th>4</th>\n",
       "      <td>0</td>\n",
       "      <td>110 ST</td>\n",
       "      <td>94748</td>\n",
       "    </tr>\n",
       "  </tbody>\n",
       "</table>\n",
       "</div>"
      ],
      "text/plain": [
       "   WEEKDAY_INDEX        STATION  TRAFFIC\n",
       "0              0           1 AV   178568\n",
       "1              0         103 ST   216609\n",
       "2              0  103 ST-CORONA   168496\n",
       "3              0         104 ST    30876\n",
       "4              0         110 ST    94748"
      ]
     },
     "execution_count": 36,
     "metadata": {},
     "output_type": "execute_result"
    }
   ],
   "source": [
    "days_station_df.head()"
   ]
  },
  {
   "cell_type": "code",
   "execution_count": 37,
   "id": "70a3e046",
   "metadata": {},
   "outputs": [],
   "source": [
    "days_station_df.sort_values('WEEKDAY_INDEX', ascending = False, inplace = True)"
   ]
  },
  {
   "cell_type": "code",
   "execution_count": 38,
   "id": "1fc96d5f",
   "metadata": {},
   "outputs": [
    {
     "data": {
      "text/html": [
       "<div>\n",
       "<style scoped>\n",
       "    .dataframe tbody tr th:only-of-type {\n",
       "        vertical-align: middle;\n",
       "    }\n",
       "\n",
       "    .dataframe tbody tr th {\n",
       "        vertical-align: top;\n",
       "    }\n",
       "\n",
       "    .dataframe thead th {\n",
       "        text-align: right;\n",
       "    }\n",
       "</style>\n",
       "<table border=\"1\" class=\"dataframe\">\n",
       "  <thead>\n",
       "    <tr style=\"text-align: right;\">\n",
       "      <th></th>\n",
       "      <th>WEEKDAY_INDEX</th>\n",
       "      <th>STATION</th>\n",
       "      <th>TRAFFIC</th>\n",
       "    </tr>\n",
       "  </thead>\n",
       "  <tbody>\n",
       "    <tr>\n",
       "      <th>2645</th>\n",
       "      <td>6</td>\n",
       "      <td>ZEREGA AV</td>\n",
       "      <td>8307</td>\n",
       "    </tr>\n",
       "    <tr>\n",
       "      <th>2397</th>\n",
       "      <td>6</td>\n",
       "      <td>AVENUE J</td>\n",
       "      <td>22432</td>\n",
       "    </tr>\n",
       "    <tr>\n",
       "      <th>2388</th>\n",
       "      <td>6</td>\n",
       "      <td>AQUEDUCT N.COND</td>\n",
       "      <td>6042</td>\n",
       "    </tr>\n",
       "    <tr>\n",
       "      <th>2389</th>\n",
       "      <td>6</td>\n",
       "      <td>AQUEDUCT RACETR</td>\n",
       "      <td>7430</td>\n",
       "    </tr>\n",
       "    <tr>\n",
       "      <th>2390</th>\n",
       "      <td>6</td>\n",
       "      <td>ASTOR PL</td>\n",
       "      <td>58536</td>\n",
       "    </tr>\n",
       "  </tbody>\n",
       "</table>\n",
       "</div>"
      ],
      "text/plain": [
       "      WEEKDAY_INDEX          STATION  TRAFFIC\n",
       "2645              6        ZEREGA AV     8307\n",
       "2397              6         AVENUE J    22432\n",
       "2388              6  AQUEDUCT N.COND     6042\n",
       "2389              6  AQUEDUCT RACETR     7430\n",
       "2390              6         ASTOR PL    58536"
      ]
     },
     "execution_count": 38,
     "metadata": {},
     "output_type": "execute_result"
    }
   ],
   "source": [
    "days_station_df.head()"
   ]
  },
  {
   "cell_type": "code",
   "execution_count": 39,
   "id": "24f50321",
   "metadata": {},
   "outputs": [
    {
     "data": {
      "image/png": "[encoded data removed]",
      "text/plain": [
       "<Figure size 504x504 with 1 Axes>"
      ]
     },
     "metadata": {
      "needs_background": "light"
     },
     "output_type": "display_data"
    }
   ],
   "source": [
    "plt.figure(figsize=[7,7])\n",
    "plt.plot(days_station_df[(days_station_df['STATION'] == '34 ST-PENN STA')].WEEKDAY_INDEX, days_station_df[(days_station_df['STATION'] == '34 ST-PENN STA')].TRAFFIC, color='#FFBB4C', marker='*')\n",
    "plt.plot(days_station_df[(days_station_df['STATION'] == 'GRD CNTRL-42 ST')].WEEKDAY_INDEX, days_station_df[(days_station_df['STATION'] == 'GRD CNTRL-42 ST')].TRAFFIC, color='#02b6bb', marker='*')\n",
    "plt.plot(days_station_df[(days_station_df['STATION'] == '34 ST-HERALD SQ')].WEEKDAY_INDEX, days_station_df[(days_station_df['STATION'] == '34 ST-HERALD SQ')].TRAFFIC, color='#D84767', marker='*')\n",
    "plt.plot(days_station_df[(days_station_df['STATION'] == '23 ST')].WEEKDAY_INDEX, days_station_df[(days_station_df['STATION'] == '23 ST')].TRAFFIC, color='#CE933E', marker='*')\n",
    "plt.plot(days_station_df[(days_station_df['STATION'] == 'TIMES SQ-42 ST')].WEEKDAY_INDEX, days_station_df[(days_station_df['STATION'] == 'TIMES SQ-42 ST')].TRAFFIC, color='#E0BE91', marker='*')\n",
    "\n",
    "plt.grid()\n",
    "ticks_x = np.linspace(0,6,7)\n",
    "label = ['Monday', 'Tuesday', 'Wednesday','Thursday','Friday','Saturday','Sunday']\n",
    "\n",
    "plt.axvspan(5,6, color='#C8C6C6', alpha=0.5)\n",
    "plt.title('Top 5 Traffic Stations in New Year Per Weekday', fontsize=15)\n",
    "plt.xticks(ticks_x, label, fontsize = '15', rotation = 90)\n",
    "plt.xlabel('Weekdays', fontsize=16, )\n",
    "plt.ylabel('Traffic per Weekday', fontsize=16)\n",
    "plt.legend(['34 ST-PENN STA Station', 'GRD CNTRL-42 ST Station', '34 ST-HERALD SQ Station', '23 ST Station', 'TIMES SQ-42 ST Station'],shadow = True, loc = 3);\n",
    "plt.show()"
   ]
  },
  {
   "cell_type": "code",
   "execution_count": null,
   "id": "f1ce8ce3",
   "metadata": {},
   "outputs": [],
   "source": []
  }
 ],
 "metadata": {
  "kernelspec": {
   "display_name": "Python 3",
   "language": "python",
   "name": "python3"
  },
  "language_info": {
   "codemirror_mode": {
    "name": "ipython",
    "version": 3
   },
   "file_extension": ".py",
   "mimetype": "text/x-python",
   "name": "python",
   "nbconvert_exporter": "python",
   "pygments_lexer": "ipython3",
   "version": "3.8.8"
  }
 },
 "nbformat": 4,
 "nbformat_minor": 5
}
